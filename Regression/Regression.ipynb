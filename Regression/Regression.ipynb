{
 "cells": [
  {
   "cell_type": "markdown",
   "metadata": {},
   "source": [
    "<h2 align='center'> MÔN HỌC: KỸ NGHỆ TRI THỨC VÀ HỌC MÁY (7080510) </h2>\n",
    "\n",
    "---\n",
    "* Giảng viên: Đặng Văn Nam\n",
    "* Email: dangvannam@humg.edu.n\n",
    "\n",
    "---\n",
    "* Họ tên sinh viên:Trịnh Văn Rinh\n",
    "* Mã sinh viên:1821050766\n",
    "* Lớp/Nhóm môn học:02\n",
    "* Email:trinhrinh55@gmail.com\n",
    "\n",
    "---\n",
    "\n",
    "### CHƯƠNG 3: HỌC CÓ GIÁM SÁT (SUPERVISED LEARNING) - PHẦN 04\n",
    "---\n",
    "Một thuật toán học máy được gọi là học có giám sát (supervised learning) nếu việc xây dựng mô hình dự đoán mối quan hệ giữa đầu vào và đầu ra được thực hiện dựa trên các cặp (đầu vào - input, đầu ra - label) đã biết trong tập huấn luyện. Đây là nhóm thuật toán phổ biến nhất trong các thuật toán machine learning.\n",
    "\n",
    "Tập dữ liệu học (Training data) bao gồm các quan sát (Examples, Observations), mà mỗi quan sát được gắn kèm với một giá trị đầu ra mong muốn (Label)\n",
    "<img src='pic/label.png' width='600px'>\n",
    "\n",
    "Học có giám sát bao gồm 2 loại:\n",
    "* Phân loại (Classification): Nếu nhãn (y – Target) thuộc tập rời rạc và hữu hạn\n",
    "* Hồi quy (Regression): Nếu nhãn (y – Target) là biến liên tục (các số thực) ví dụ như dự báo nhiệt độ, giá nhà, mức tiêu thụ điện năng…\n",
    "\n",
    "<img src='pic/type.png' width='400px' heith='300px'>"
   ]
  },
  {
   "cell_type": "markdown",
   "metadata": {},
   "source": [
    "## THỰC HÀNH 8\n",
    "---\n",
    "### Yêu cầu 1: \n",
    "Sinh viên tìm hiểu về tập dữ liệu mẫu Diabetes Dataset của Sklearn (xác định các features đầu vào (input) và label đầu ra (target))\n"
   ]
  },
  {
   "cell_type": "code",
   "execution_count": 132,
   "metadata": {},
   "outputs": [],
   "source": [
    "#{Sinh viên viết code ở đây!}\n",
    "import pandas as pd\n",
    "import numpy as np\n",
    "from sklearn.datasets import load_diabetes"
   ]
  },
  {
   "cell_type": "code",
   "execution_count": 133,
   "metadata": {},
   "outputs": [
    {
     "name": "stdout",
     "output_type": "stream",
     "text": [
      "Các features đầu vào (input): ['age', 'sex', 'bmi', 'bp', 's1', 's2', 's3', 's4', 's5', 's6']\n"
     ]
    }
   ],
   "source": [
    "diabetes = load_diabetes()\n",
    "df_diabetes = pd.DataFrame(diabetes.data, columns=diabetes.feature_names)\n",
    "print(\"Các features đầu vào (input):\", df_diabetes.columns.tolist())"
   ]
  },
  {
   "cell_type": "code",
   "execution_count": 134,
   "metadata": {},
   "outputs": [
    {
     "name": "stdout",
     "output_type": "stream",
     "text": [
      "<class 'pandas.core.frame.DataFrame'>\n",
      "RangeIndex: 442 entries, 0 to 441\n",
      "Data columns (total 10 columns):\n",
      " #   Column  Non-Null Count  Dtype  \n",
      "---  ------  --------------  -----  \n",
      " 0   age     442 non-null    float64\n",
      " 1   sex     442 non-null    float64\n",
      " 2   bmi     442 non-null    float64\n",
      " 3   bp      442 non-null    float64\n",
      " 4   s1      442 non-null    float64\n",
      " 5   s2      442 non-null    float64\n",
      " 6   s3      442 non-null    float64\n",
      " 7   s4      442 non-null    float64\n",
      " 8   s5      442 non-null    float64\n",
      " 9   s6      442 non-null    float64\n",
      "dtypes: float64(10)\n",
      "memory usage: 34.7 KB\n"
     ]
    }
   ],
   "source": [
    "df_diabetes.info()"
   ]
  },
  {
   "cell_type": "code",
   "execution_count": 135,
   "metadata": {},
   "outputs": [
    {
     "data": {
      "text/html": [
       "<div>\n",
       "<style scoped>\n",
       "    .dataframe tbody tr th:only-of-type {\n",
       "        vertical-align: middle;\n",
       "    }\n",
       "\n",
       "    .dataframe tbody tr th {\n",
       "        vertical-align: top;\n",
       "    }\n",
       "\n",
       "    .dataframe thead th {\n",
       "        text-align: right;\n",
       "    }\n",
       "</style>\n",
       "<table border=\"1\" class=\"dataframe\">\n",
       "  <thead>\n",
       "    <tr style=\"text-align: right;\">\n",
       "      <th></th>\n",
       "      <th>age</th>\n",
       "      <th>sex</th>\n",
       "      <th>bmi</th>\n",
       "      <th>bp</th>\n",
       "      <th>s1</th>\n",
       "      <th>s2</th>\n",
       "      <th>s3</th>\n",
       "      <th>s4</th>\n",
       "      <th>s5</th>\n",
       "      <th>s6</th>\n",
       "    </tr>\n",
       "  </thead>\n",
       "  <tbody>\n",
       "    <tr>\n",
       "      <th>0</th>\n",
       "      <td>0.038076</td>\n",
       "      <td>0.050680</td>\n",
       "      <td>0.061696</td>\n",
       "      <td>0.021872</td>\n",
       "      <td>-0.044223</td>\n",
       "      <td>-0.034821</td>\n",
       "      <td>-0.043401</td>\n",
       "      <td>-0.002592</td>\n",
       "      <td>0.019908</td>\n",
       "      <td>-0.017646</td>\n",
       "    </tr>\n",
       "    <tr>\n",
       "      <th>1</th>\n",
       "      <td>-0.001882</td>\n",
       "      <td>-0.044642</td>\n",
       "      <td>-0.051474</td>\n",
       "      <td>-0.026328</td>\n",
       "      <td>-0.008449</td>\n",
       "      <td>-0.019163</td>\n",
       "      <td>0.074412</td>\n",
       "      <td>-0.039493</td>\n",
       "      <td>-0.068330</td>\n",
       "      <td>-0.092204</td>\n",
       "    </tr>\n",
       "    <tr>\n",
       "      <th>2</th>\n",
       "      <td>0.085299</td>\n",
       "      <td>0.050680</td>\n",
       "      <td>0.044451</td>\n",
       "      <td>-0.005671</td>\n",
       "      <td>-0.045599</td>\n",
       "      <td>-0.034194</td>\n",
       "      <td>-0.032356</td>\n",
       "      <td>-0.002592</td>\n",
       "      <td>0.002864</td>\n",
       "      <td>-0.025930</td>\n",
       "    </tr>\n",
       "    <tr>\n",
       "      <th>3</th>\n",
       "      <td>-0.089063</td>\n",
       "      <td>-0.044642</td>\n",
       "      <td>-0.011595</td>\n",
       "      <td>-0.036656</td>\n",
       "      <td>0.012191</td>\n",
       "      <td>0.024991</td>\n",
       "      <td>-0.036038</td>\n",
       "      <td>0.034309</td>\n",
       "      <td>0.022692</td>\n",
       "      <td>-0.009362</td>\n",
       "    </tr>\n",
       "    <tr>\n",
       "      <th>4</th>\n",
       "      <td>0.005383</td>\n",
       "      <td>-0.044642</td>\n",
       "      <td>-0.036385</td>\n",
       "      <td>0.021872</td>\n",
       "      <td>0.003935</td>\n",
       "      <td>0.015596</td>\n",
       "      <td>0.008142</td>\n",
       "      <td>-0.002592</td>\n",
       "      <td>-0.031991</td>\n",
       "      <td>-0.046641</td>\n",
       "    </tr>\n",
       "  </tbody>\n",
       "</table>\n",
       "</div>"
      ],
      "text/plain": [
       "        age       sex       bmi        bp        s1        s2        s3  \\\n",
       "0  0.038076  0.050680  0.061696  0.021872 -0.044223 -0.034821 -0.043401   \n",
       "1 -0.001882 -0.044642 -0.051474 -0.026328 -0.008449 -0.019163  0.074412   \n",
       "2  0.085299  0.050680  0.044451 -0.005671 -0.045599 -0.034194 -0.032356   \n",
       "3 -0.089063 -0.044642 -0.011595 -0.036656  0.012191  0.024991 -0.036038   \n",
       "4  0.005383 -0.044642 -0.036385  0.021872  0.003935  0.015596  0.008142   \n",
       "\n",
       "         s4        s5        s6  \n",
       "0 -0.002592  0.019908 -0.017646  \n",
       "1 -0.039493 -0.068330 -0.092204  \n",
       "2 -0.002592  0.002864 -0.025930  \n",
       "3  0.034309  0.022692 -0.009362  \n",
       "4 -0.002592 -0.031991 -0.046641  "
      ]
     },
     "execution_count": 135,
     "metadata": {},
     "output_type": "execute_result"
    }
   ],
   "source": [
    "df_diabetes.head()"
   ]
  },
  {
   "cell_type": "markdown",
   "metadata": {},
   "source": [
    "**Yêu cầu 2:**\n",
    "---\n",
    "* Trong tập dữ liệu Diabetes xác định thuộc tính có ảnh hưởng lớn nhất (hệ số tương quan cao nhất) tới thuộc tính target.\n",
    "* Tách tập dữ liệu thành 2 phần Train – Test với tỷ lệ 75%-25%"
   ]
  },
  {
   "cell_type": "code",
   "execution_count": 136,
   "metadata": {},
   "outputs": [
    {
     "data": {
      "text/plain": [
       "<AxesSubplot:>"
      ]
     },
     "execution_count": 136,
     "metadata": {},
     "output_type": "execute_result"
    },
    {
     "data": {
      "image/png": "[encoded data removed]",
      "text/plain": [
       "<Figure size 1080x720 with 2 Axes>"
      ]
     },
     "metadata": {},
     "output_type": "display_data"
    }
   ],
   "source": [
    "#{Sinh viên viết code ở đây!}\n",
    "import warnings\n",
    "import seaborn as sns\n",
    "df_diabetes[\"target\"] = diabetes.target\n",
    "correlation_matrix = df_diabetes.corr().round(2)\n",
    "sns.set(rc={\"figure.figsize\":(15,10)})\n",
    "sns.heatmap(data=correlation_matrix, annot=True)\n",
    "\n"
   ]
  },
  {
   "cell_type": "code",
   "execution_count": 137,
   "metadata": {},
   "outputs": [
    {
     "data": {
      "text/plain": [
       "(331, 1)"
      ]
     },
     "execution_count": 137,
     "metadata": {},
     "output_type": "execute_result"
    }
   ],
   "source": [
    "from sklearn.model_selection import train_test_split\n",
    "X_diabetes = df_diabetes.bmi.values.reshape(442,1)\n",
    "y_diabetes = df_diabetes.target\n",
    "X_diabetes_train, X_diabetes_test, y_diabetes_train, y_diabetes_test = train_test_split(X_diabetes, y_diabetes, test_size=0.25, random_state=42)\n",
    "X_diabetes_train.shape"
   ]
  },
  {
   "cell_type": "code",
   "execution_count": 138,
   "metadata": {},
   "outputs": [
    {
     "data": {
      "text/plain": [
       "(111, 1)"
      ]
     },
     "execution_count": 138,
     "metadata": {},
     "output_type": "execute_result"
    }
   ],
   "source": [
    "X_diabetes_test.shape"
   ]
  },
  {
   "cell_type": "markdown",
   "metadata": {},
   "source": [
    "### Yêu cầu 3:\n",
    "---\n",
    "* 1) Xây dựng mô hình hồi quy tuyến tính đơn giản (Simple Linear Regression) với thuộc tính có ảnh hưởng cao nhất tới thuộc tính Target. Xác định sai số RMSE và R2 trên tập Train và Test.\n",
    "* 2) Xây dựng mô hình hồi quy tuyến tính với tất các thuộc tính đầu vào (input). Xác định sai số RMSE và R2  trên tập Train và Test.\n"
   ]
  },
  {
   "cell_type": "markdown",
   "metadata": {},
   "source": [
    "# 1"
   ]
  },
  {
   "cell_type": "code",
   "execution_count": 139,
   "metadata": {},
   "outputs": [
    {
     "data": {
      "text/plain": [
       "{'copy_X': True,\n",
       " 'fit_intercept': True,\n",
       " 'n_jobs': None,\n",
       " 'normalize': False,\n",
       " 'positive': False}"
      ]
     },
     "execution_count": 139,
     "metadata": {},
     "output_type": "execute_result"
    }
   ],
   "source": [
    "#{Sinh viên viết code ở đây!}\n",
    "#Sử dụng model hồi quy tuyến tính cho bài toán \n",
    "from sklearn.linear_model import LinearRegression\n",
    "\n",
    "#khai báo sử dụng model với các tham số mặc định\n",
    "model_linear = LinearRegression()\n",
    "\n",
    "#Các tham số của mô hình:\n",
    "model_linear.get_params()\n",
    "\n"
   ]
  },
  {
   "cell_type": "code",
   "execution_count": 140,
   "metadata": {},
   "outputs": [
    {
     "data": {
      "text/plain": [
       "LinearRegression()"
      ]
     },
     "execution_count": 140,
     "metadata": {},
     "output_type": "execute_result"
    }
   ],
   "source": [
    "#Huấn luyện model:\n",
    "model_linear.fit(X_diabetes_train, y_diabetes_train)"
   ]
  },
  {
   "cell_type": "code",
   "execution_count": 141,
   "metadata": {},
   "outputs": [
    {
     "data": {
      "text/plain": [
       "array([975.27698313])"
      ]
     },
     "execution_count": 141,
     "metadata": {},
     "output_type": "execute_result"
    }
   ],
   "source": [
    "#Lấy các hệ số của phương trình:\n",
    "#hệ số w1:\n",
    "w1 = model_linear.coef_\n",
    "w1"
   ]
  },
  {
   "cell_type": "code",
   "execution_count": 142,
   "metadata": {},
   "outputs": [
    {
     "data": {
      "text/plain": [
       "152.0765329689407"
      ]
     },
     "execution_count": 142,
     "metadata": {},
     "output_type": "execute_result"
    }
   ],
   "source": [
    "#Hệ số w0 (bias):\n",
    "w0 = model_linear.intercept_\n",
    "w0"
   ]
  },
  {
   "cell_type": "code",
   "execution_count": 143,
   "metadata": {},
   "outputs": [
    {
     "data": {
      "text/plain": [
       "array([[146.02400874, 188.07062105, 148.12633936, 202.78693536,\n",
       "        132.35885974, 128.15419851, 318.41511922, 196.47994352,\n",
       "         64.03311473, 167.0473149 , 119.74487605,  95.56807397,\n",
       "         92.41457804, 165.99614959,  97.67040458, 157.58682713,\n",
       "        221.7079109 , 238.52655583, 179.66129859, 209.09392721,\n",
       "        190.17295167, 110.28438828, 103.97739643, 174.40547205,\n",
       "        195.42877821, 165.99614959, 210.14509252, 134.46119036,\n",
       "         79.80059435, 131.30769443, 242.73121706, 115.54021482,\n",
       "        165.99614959, 146.02400874, 191.22411698, 228.01490275,\n",
       "        121.84720666, 119.74487605, 121.84720666,  95.56807397,\n",
       "         84.00525558, 122.89837197, 130.25652913, 119.74487605,\n",
       "        108.18205766, 117.64254543, 116.59138012, 102.92623112,\n",
       "         69.28894127, 153.3821659 , 209.09392721,  84.00525558,\n",
       "        169.14964551, 112.38671889, 134.46119036, 215.40091906,\n",
       "        107.13089235, 212.24742313, 134.46119036,  98.72156989,\n",
       "        181.76362921, 192.27528228, 204.88926598, 108.18205766,\n",
       "         88.20991681, 170.20081082, 140.7681822 , 128.15419851,\n",
       "        118.69371074, 139.7170169 , 134.46119036, 181.76362921,\n",
       "        131.30769443, 141.81934751,  92.41457804, 113.4378842 ,\n",
       "        211.19625783, 190.17295167, 171.25197613, 132.35885974,\n",
       "        148.12633936, 140.7681822 ,  89.26108212,  93.46574335,\n",
       "         88.20991681, 127.1030332 ,  90.31224743,  84.00525558,\n",
       "        187.01945575, 163.89381897, 134.46119036, 200.68460475,\n",
       "        117.64254543,  88.20991681, 113.4378842 , 172.30314144,\n",
       "        219.60558029, 189.12178636, 135.51235566,  85.05642089,\n",
       "        171.25197613,  95.56807397, 254.29403544,  74.54476781,\n",
       "        172.30314144, 112.38671889, 117.64254543, 109.23322297,\n",
       "        171.25197613, 177.55896798, 116.59138012]])"
      ]
     },
     "execution_count": 143,
     "metadata": {},
     "output_type": "execute_result"
    }
   ],
   "source": [
    "#Kiểm tra trên tập Test:\n",
    "X_diabetes_test = X_diabetes_test.reshape(-1, 1)\n",
    "\n",
    "y_pred = model_linear.predict(X_diabetes_test)\n",
    "y_pred.reshape(1,-1)"
   ]
  },
  {
   "cell_type": "code",
   "execution_count": 144,
   "metadata": {},
   "outputs": [
    {
     "name": "stdout",
     "output_type": "stream",
     "text": [
      "Độ chính xác của mô hình trên tập huấn luyện:\n",
      "--------------------------------------------\n",
      "1.Sai số RMSE =  62.69760374633988\n",
      "2.Sai số R2   =  0.34967185121455047\n"
     ]
    }
   ],
   "source": [
    "from sklearn.metrics import mean_absolute_error, mean_squared_error, r2_score, max_error\n",
    "\n",
    "#Đánh giá độ chính xác trên tập Train:\n",
    "y_train_predict = model_linear.predict(X_diabetes_train)\n",
    "y_train_predict = y_train_predict.reshape(-1,1)\n",
    "\n",
    "#Tính các sai số:\n",
    "rmse_train = (np.sqrt(mean_squared_error(y_diabetes_train, y_train_predict)))\n",
    "r2_train = r2_score(y_diabetes_train, y_train_predict)\n",
    "\n",
    "print(\"Độ chính xác của mô hình trên tập huấn luyện:\")\n",
    "print(\"--------------------------------------------\")\n",
    "print('1.Sai số RMSE = ',rmse_train)\n",
    "print('2.Sai số R2   = ',r2_train)"
   ]
  },
  {
   "cell_type": "code",
   "execution_count": 145,
   "metadata": {},
   "outputs": [
    {
     "name": "stdout",
     "output_type": "stream",
     "text": [
      "Độ chính xác của mô hình trên Kiểm thử:\n",
      "--------------------------------------------\n",
      "1.Sai số RMSE =  61.44605114652022\n",
      "2.Sai số R2   =  0.3172099449537781\n"
     ]
    }
   ],
   "source": [
    "# Đánh giá độ chính xác trên tập TEST:\n",
    "y_diabetes_test = y_diabetes_test.values.reshape(-1,1)\n",
    "\n",
    "#Tính các sai số:\n",
    "rmse_test = (np.sqrt(mean_squared_error(y_diabetes_test, y_pred)))\n",
    "r2_test = r2_score(y_diabetes_test, y_pred)\n",
    "\n",
    "print(\"Độ chính xác của mô hình trên Kiểm thử:\")\n",
    "print(\"--------------------------------------------\")\n",
    "print('1.Sai số RMSE = ',rmse_test)\n",
    "print('2.Sai số R2   = ',r2_test)"
   ]
  },
  {
   "cell_type": "markdown",
   "metadata": {},
   "source": [
    "# 2)"
   ]
  },
  {
   "cell_type": "code",
   "execution_count": 146,
   "metadata": {},
   "outputs": [
    {
     "name": "stdout",
     "output_type": "stream",
     "text": [
      "1. Kích thước tập Training: 353\n",
      "2. Kích thước tập Test    : 89\n"
     ]
    }
   ],
   "source": [
    "from sklearn.model_selection import train_test_split\n",
    "X_diabetes_train, X_diabetes_test, y_diabetes_train, y_diabetes_test = train_test_split(X_diabetes, \n",
    "                                                    y_diabetes, \n",
    "                                                    test_size=0.2, \n",
    "                                                    random_state=50)\n",
    "print(\"1. Kích thước tập Training: %d\" %len(y_diabetes_train))\n",
    "print(\"2. Kích thước tập Test    : %d\" %len(y_diabetes_test))"
   ]
  },
  {
   "cell_type": "code",
   "execution_count": 147,
   "metadata": {},
   "outputs": [],
   "source": [
    "#Sử dụng model huấn luyện được trên tập Train để dự đoán trên tập Test\n",
    "y_pred_all = model_all.predict(X_diabetes_test)\n",
    "y_pred_all = np.round(y_pred_all,1)"
   ]
  },
  {
   "cell_type": "code",
   "execution_count": 164,
   "metadata": {},
   "outputs": [
    {
     "data": {
      "text/plain": [
       "LinearRegression(fit_intercept=False, normalize=True)"
      ]
     },
     "execution_count": 164,
     "metadata": {},
     "output_type": "execute_result"
    }
   ],
   "source": [
    "#Sử dụng model hồi quy tuyến tính cho bài toán \n",
    "from sklearn.linear_model import LinearRegression\n",
    "#Khai báo model với các tham số mặc định:\n",
    "model_all = LinearRegression(fit_intercept=False,normalize=True)\n",
    "\n",
    "#Huấn luyện model:\n",
    "model_all.fit(X_diabetes_train, y_diabetes_train)"
   ]
  },
  {
   "cell_type": "code",
   "execution_count": 165,
   "metadata": {},
   "outputs": [
    {
     "name": "stdout",
     "output_type": "stream",
     "text": [
      "MÔ HÌNH HỒI QUY TUYẾN TÍNH SỬ DỤNG THAM SỐ VỚI TẤT CẢ THUỘC TÍNH:\n",
      "Độ chính xác của mô hình trên tập TEST:\n",
      "--------------------------------------------\n",
      "1.Sai số RMSE =  157.57955793392645\n",
      "2.Sai số R2   =  -3.464226055697176\n"
     ]
    }
   ],
   "source": [
    "rmse_all = (np.sqrt(mean_squared_error(y_diabetes_test, y_pred_all)))\n",
    "r2_all = r2_score(y_diabetes_test, y_pred_all)\n",
    "\n",
    "print('MÔ HÌNH HỒI QUY TUYẾN TÍNH SỬ DỤNG THAM SỐ VỚI TẤT CẢ THUỘC TÍNH:')\n",
    "print(\"Độ chính xác của mô hình trên tập TEST:\")\n",
    "print(\"--------------------------------------------\")\n",
    "print('1.Sai số RMSE = ',rmse_all)\n",
    "print('2.Sai số R2   = ',r2_all)"
   ]
  },
  {
   "cell_type": "markdown",
   "metadata": {},
   "source": [
    "## THỰC HÀNH 3.4\n",
    "---\n",
    "Yêu cầu 1, 2 giống với bài thực hành 3.3\n",
    "\n",
    "Yêu cầu 3:\n",
    "1. Xây dựng mô hình KNN cho bài toán hồi quy (Simple Linear Regression) với thuộc tính có ảnh hưởng cao nhất tới thuộc tính Target. Xác định sai số RMSE và R2 trên tập Train và Test.\n",
    "2. Xây dựng mô hình KNN cho bài toán hồi quy với tất các thuộc tính đầu vào (input). Xác định sai số RMSE và R2  trên tập Train và Test."
   ]
  },
  {
   "cell_type": "code",
   "execution_count": 166,
   "metadata": {},
   "outputs": [],
   "source": [
    "#{Sinh viên viết code ở đây}\n",
    "import pandas as pd\n",
    "import numpy as np\n",
    "from sklearn.datasets import load_diabetes\n"
   ]
  },
  {
   "cell_type": "markdown",
   "metadata": {},
   "source": [
    "* 1) Xây dựng mô hình hồi quy tuyến tính đơn giản (Simple Linear Regression) với thuộc tính có ảnh hưởng cao nhất tới thuộc tính Target. Xác định sai số RMSE và R2 trên tập Train và Test.\n",
    "* 2) Xây dựng mô hình hồi quy tuyến tính với tất các thuộc tính đầu vào (input). Xác định sai số RMSE và R2  trên tập Train và Test."
   ]
  },
  {
   "cell_type": "code",
   "execution_count": 167,
   "metadata": {},
   "outputs": [
    {
     "name": "stdout",
     "output_type": "stream",
     "text": [
      "Các features đầu vào (input): ['age', 'sex', 'bmi', 'bp', 's1', 's2', 's3', 's4', 's5', 's6']\n"
     ]
    }
   ],
   "source": [
    "diabetes = load_diabetes()\n",
    "df_diabetes = pd.DataFrame(diabetes.data, columns=diabetes.feature_names)\n",
    "print(\"Các features đầu vào (input):\", df_diabetes.columns.tolist())"
   ]
  },
  {
   "cell_type": "code",
   "execution_count": 168,
   "metadata": {},
   "outputs": [
    {
     "name": "stdout",
     "output_type": "stream",
     "text": [
      "<class 'pandas.core.frame.DataFrame'>\n",
      "RangeIndex: 442 entries, 0 to 441\n",
      "Data columns (total 10 columns):\n",
      " #   Column  Non-Null Count  Dtype  \n",
      "---  ------  --------------  -----  \n",
      " 0   age     442 non-null    float64\n",
      " 1   sex     442 non-null    float64\n",
      " 2   bmi     442 non-null    float64\n",
      " 3   bp      442 non-null    float64\n",
      " 4   s1      442 non-null    float64\n",
      " 5   s2      442 non-null    float64\n",
      " 6   s3      442 non-null    float64\n",
      " 7   s4      442 non-null    float64\n",
      " 8   s5      442 non-null    float64\n",
      " 9   s6      442 non-null    float64\n",
      "dtypes: float64(10)\n",
      "memory usage: 34.7 KB\n"
     ]
    }
   ],
   "source": [
    "df_diabetes.info()"
   ]
  },
  {
   "cell_type": "code",
   "execution_count": 169,
   "metadata": {},
   "outputs": [
    {
     "data": {
      "text/html": [
       "<div>\n",
       "<style scoped>\n",
       "    .dataframe tbody tr th:only-of-type {\n",
       "        vertical-align: middle;\n",
       "    }\n",
       "\n",
       "    .dataframe tbody tr th {\n",
       "        vertical-align: top;\n",
       "    }\n",
       "\n",
       "    .dataframe thead th {\n",
       "        text-align: right;\n",
       "    }\n",
       "</style>\n",
       "<table border=\"1\" class=\"dataframe\">\n",
       "  <thead>\n",
       "    <tr style=\"text-align: right;\">\n",
       "      <th></th>\n",
       "      <th>age</th>\n",
       "      <th>sex</th>\n",
       "      <th>bmi</th>\n",
       "      <th>bp</th>\n",
       "      <th>s1</th>\n",
       "      <th>s2</th>\n",
       "      <th>s3</th>\n",
       "      <th>s4</th>\n",
       "      <th>s5</th>\n",
       "      <th>s6</th>\n",
       "    </tr>\n",
       "  </thead>\n",
       "  <tbody>\n",
       "    <tr>\n",
       "      <th>0</th>\n",
       "      <td>0.038076</td>\n",
       "      <td>0.050680</td>\n",
       "      <td>0.061696</td>\n",
       "      <td>0.021872</td>\n",
       "      <td>-0.044223</td>\n",
       "      <td>-0.034821</td>\n",
       "      <td>-0.043401</td>\n",
       "      <td>-0.002592</td>\n",
       "      <td>0.019908</td>\n",
       "      <td>-0.017646</td>\n",
       "    </tr>\n",
       "    <tr>\n",
       "      <th>1</th>\n",
       "      <td>-0.001882</td>\n",
       "      <td>-0.044642</td>\n",
       "      <td>-0.051474</td>\n",
       "      <td>-0.026328</td>\n",
       "      <td>-0.008449</td>\n",
       "      <td>-0.019163</td>\n",
       "      <td>0.074412</td>\n",
       "      <td>-0.039493</td>\n",
       "      <td>-0.068330</td>\n",
       "      <td>-0.092204</td>\n",
       "    </tr>\n",
       "    <tr>\n",
       "      <th>2</th>\n",
       "      <td>0.085299</td>\n",
       "      <td>0.050680</td>\n",
       "      <td>0.044451</td>\n",
       "      <td>-0.005671</td>\n",
       "      <td>-0.045599</td>\n",
       "      <td>-0.034194</td>\n",
       "      <td>-0.032356</td>\n",
       "      <td>-0.002592</td>\n",
       "      <td>0.002864</td>\n",
       "      <td>-0.025930</td>\n",
       "    </tr>\n",
       "    <tr>\n",
       "      <th>3</th>\n",
       "      <td>-0.089063</td>\n",
       "      <td>-0.044642</td>\n",
       "      <td>-0.011595</td>\n",
       "      <td>-0.036656</td>\n",
       "      <td>0.012191</td>\n",
       "      <td>0.024991</td>\n",
       "      <td>-0.036038</td>\n",
       "      <td>0.034309</td>\n",
       "      <td>0.022692</td>\n",
       "      <td>-0.009362</td>\n",
       "    </tr>\n",
       "    <tr>\n",
       "      <th>4</th>\n",
       "      <td>0.005383</td>\n",
       "      <td>-0.044642</td>\n",
       "      <td>-0.036385</td>\n",
       "      <td>0.021872</td>\n",
       "      <td>0.003935</td>\n",
       "      <td>0.015596</td>\n",
       "      <td>0.008142</td>\n",
       "      <td>-0.002592</td>\n",
       "      <td>-0.031991</td>\n",
       "      <td>-0.046641</td>\n",
       "    </tr>\n",
       "  </tbody>\n",
       "</table>\n",
       "</div>"
      ],
      "text/plain": [
       "        age       sex       bmi        bp        s1        s2        s3  \\\n",
       "0  0.038076  0.050680  0.061696  0.021872 -0.044223 -0.034821 -0.043401   \n",
       "1 -0.001882 -0.044642 -0.051474 -0.026328 -0.008449 -0.019163  0.074412   \n",
       "2  0.085299  0.050680  0.044451 -0.005671 -0.045599 -0.034194 -0.032356   \n",
       "3 -0.089063 -0.044642 -0.011595 -0.036656  0.012191  0.024991 -0.036038   \n",
       "4  0.005383 -0.044642 -0.036385  0.021872  0.003935  0.015596  0.008142   \n",
       "\n",
       "         s4        s5        s6  \n",
       "0 -0.002592  0.019908 -0.017646  \n",
       "1 -0.039493 -0.068330 -0.092204  \n",
       "2 -0.002592  0.002864 -0.025930  \n",
       "3  0.034309  0.022692 -0.009362  \n",
       "4 -0.002592 -0.031991 -0.046641  "
      ]
     },
     "execution_count": 169,
     "metadata": {},
     "output_type": "execute_result"
    }
   ],
   "source": [
    "df_diabetes.head()"
   ]
  },
  {
   "cell_type": "markdown",
   "metadata": {},
   "source": [
    "**Yêu cầu 2:**\n",
    "---\n",
    "* Trong tập dữ liệu Diabetes xác định thuộc tính có ảnh hưởng lớn nhất (hệ số tương quan cao nhất) tới thuộc tính target.\n",
    "* Tách tập dữ liệu thành 2 phần Train – Test với tỷ lệ 75%-25%"
   ]
  },
  {
   "cell_type": "code",
   "execution_count": 170,
   "metadata": {},
   "outputs": [
    {
     "data": {
      "text/plain": [
       "<AxesSubplot:>"
      ]
     },
     "execution_count": 170,
     "metadata": {},
     "output_type": "execute_result"
    },
    {
     "data": {
      "image/png": "[encoded data removed]",
      "text/plain": [
       "<Figure size 1080x720 with 2 Axes>"
      ]
     },
     "metadata": {},
     "output_type": "display_data"
    }
   ],
   "source": [
    "#{Sinh viên viết code ở đây!}\n",
    "import warnings\n",
    "import seaborn as sns\n",
    "df_diabetes[\"target\"] = diabetes.target\n",
    "correlation_matrix = df_diabetes.corr().round(2)\n",
    "sns.set(rc={\"figure.figsize\":(15,10)})\n",
    "sns.heatmap(data=correlation_matrix, annot=True)"
   ]
  },
  {
   "cell_type": "code",
   "execution_count": 171,
   "metadata": {},
   "outputs": [
    {
     "data": {
      "text/plain": [
       "(331, 1)"
      ]
     },
     "execution_count": 171,
     "metadata": {},
     "output_type": "execute_result"
    }
   ],
   "source": [
    "from sklearn.model_selection import train_test_split\n",
    "X_diabetes = df_diabetes.bmi.values.reshape(442,1)\n",
    "y_diabetes = df_diabetes.target\n",
    "X_diabetes_train, X_diabetes_test, y_diabetes_train, y_diabetes_test = train_test_split(X_diabetes, y_diabetes, test_size=0.25, random_state=42)\n",
    "X_diabetes_train.shape"
   ]
  },
  {
   "cell_type": "markdown",
   "metadata": {},
   "source": [
    "# Yêu cầu 3:\n",
    "1. Xây dựng mô hình KNN cho bài toán hồi quy (Simple Linear Regression) với thuộc tính có ảnh hưởng cao nhất tới thuộc tính Target. Xác định sai số RMSE và R2 trên tập Train và Test.\n",
    "2. Xây dựng mô hình KNN cho bài toán hồi quy với tất các thuộc tính đầu vào (input). Xác định sai số RMSE và R2  trên tập Train và Test."
   ]
  },
  {
   "cell_type": "markdown",
   "metadata": {},
   "source": [
    "# 1"
   ]
  },
  {
   "cell_type": "code",
   "execution_count": 172,
   "metadata": {},
   "outputs": [
    {
     "name": "stdout",
     "output_type": "stream",
     "text": [
      "1. Kích thước tập Training: 353\n",
      "2. Kích thước tập Test    : 89\n"
     ]
    }
   ],
   "source": [
    "from sklearn.model_selection import train_test_split\n",
    "X_diabetes_train, X_diabetes_test, y_diabetes_train, y_diabetes_test = train_test_split(X_diabetes, \n",
    "                                                    y_diabetes, \n",
    "                                                    test_size=0.2, \n",
    "                                                    random_state=50)\n",
    "print(\"1. Kích thước tập Training: %d\" %len(y_diabetes_train))\n",
    "print(\"2. Kích thước tập Test    : %d\" %len(y_diabetes_test))"
   ]
  },
  {
   "cell_type": "code",
   "execution_count": 173,
   "metadata": {},
   "outputs": [
    {
     "name": "stdout",
     "output_type": "stream",
     "text": [
      "KNeighborsRegressor(n_neighbors=8)\n"
     ]
    }
   ],
   "source": [
    "#Khai báo sử dụng thuật toán hồi quy KNN\n",
    "from sklearn.neighbors import KNeighborsRegressor\n",
    "\n",
    "#Trường hợp với n = 8\n",
    "knn_reg = KNeighborsRegressor(n_neighbors=8)\n",
    "\n",
    "#Huấn luyện model\n",
    "knn_reg.fit(X_diabetes_train,y_diabetes_train)\n",
    "print(knn_reg)"
   ]
  },
  {
   "cell_type": "code",
   "execution_count": 174,
   "metadata": {},
   "outputs": [
    {
     "name": "stdout",
     "output_type": "stream",
     "text": [
      "Độ chính xác của mô hình trên tập huấn luyện:\n",
      "--------------------------------------------\n",
      "Sai số RMSE 58.57283425088207\n",
      "Sai số R2   0.4292897937996555\n",
      "\n",
      "\n",
      "Độ chính xác của mô hình trên tập kiểm thử:\n",
      "-------------------------------------------\n",
      "Sai số RMSE 61.89955250015222\n",
      "Sai số R2   0.3111551101492698\n"
     ]
    }
   ],
   "source": [
    "from sklearn.metrics import mean_squared_error, r2_score\n",
    "# model evaluation for training set\n",
    "y_train_predict = knn_reg.predict(X_diabetes_train)\n",
    "y_train_predict = y_train_predict.reshape(-1,1)\n",
    "\n",
    "rmse = (np.sqrt(mean_squared_error(y_diabetes_train, y_train_predict)))\n",
    "r2 = r2_score(y_diabetes_train, y_train_predict)\n",
    "\n",
    "print(\"Độ chính xác của mô hình trên tập huấn luyện:\")\n",
    "print(\"--------------------------------------------\")\n",
    "print('Sai số RMSE {}'.format(rmse))\n",
    "print('Sai số R2   {}'.format(r2))\n",
    "print(\"\\n\")\n",
    "\n",
    "# model evaluation for testing set\n",
    "y_test_predict = knn_reg.predict(X_diabetes_test)\n",
    "y_test_predict = y_test_predict.reshape(-1,1)\n",
    "\n",
    "y_test = y_test.reshape(-1,1)\n",
    "rmse = (np.sqrt(mean_squared_error(y_diabetes_test, y_test_predict)))\n",
    "r2 = r2_score(y_diabetes_test, y_test_predict)\n",
    "\n",
    "print(\"Độ chính xác của mô hình trên tập kiểm thử:\")\n",
    "print(\"-------------------------------------------\")\n",
    "print('Sai số RMSE {}'.format(rmse))\n",
    "print('Sai số R2   {}'.format(r2))"
   ]
  },
  {
   "cell_type": "code",
   "execution_count": null,
   "metadata": {},
   "outputs": [],
   "source": []
  },
  {
   "cell_type": "markdown",
   "metadata": {},
   "source": [
    "# 2"
   ]
  },
  {
   "cell_type": "code",
   "execution_count": null,
   "metadata": {},
   "outputs": [],
   "source": []
  },
  {
   "cell_type": "code",
   "execution_count": 175,
   "metadata": {},
   "outputs": [
    {
     "data": {
      "text/plain": [
       "KNeighborsRegressor(n_neighbors=3)"
      ]
     },
     "execution_count": 175,
     "metadata": {},
     "output_type": "execute_result"
    }
   ],
   "source": [
    "#Sử dụng thuật toán hồi quy KNN với k=3\n",
    "from sklearn.neighbors import KNeighborsRegressor\n",
    "knn_reg_all = KNeighborsRegressor(n_neighbors = 3)\n",
    "\n",
    "#Huấn luyện\n",
    "knn_reg_all.fit(X_diabetes_train,y_diabetes_train)"
   ]
  },
  {
   "cell_type": "code",
   "execution_count": 176,
   "metadata": {},
   "outputs": [
    {
     "name": "stdout",
     "output_type": "stream",
     "text": [
      "Độ chính xác của mô hình trên tập huấn luyện:\n",
      "--------------------------------------------\n",
      "Sai số RMSE 54.40522538272906\n",
      "Sai số R2   0.5076154830968129\n",
      "\n",
      "\n",
      "Độ chính xác của mô hình trên tập kiểm thử:\n",
      "-------------------------------------------\n",
      "Sai số RMSE 65.51583468335863\n",
      "Sai số R2   0.2283169180072675\n"
     ]
    }
   ],
   "source": [
    "from sklearn.metrics import mean_squared_error, r2_score\n",
    "# model evaluation for training set\n",
    "y_train_predict = knn_reg_all.predict(X_diabetes_train)\n",
    "y_train_predict = y_train_predict.reshape(-1,1)\n",
    "\n",
    "rmse = (np.sqrt(mean_squared_error(y_diabetes_train, y_train_predict)))\n",
    "r2 = r2_score(y_diabetes_train, y_train_predict)\n",
    "\n",
    "print(\"Độ chính xác của mô hình trên tập huấn luyện:\")\n",
    "print(\"--------------------------------------------\")\n",
    "print('Sai số RMSE {}'.format(rmse))\n",
    "print('Sai số R2   {}'.format(r2))\n",
    "print(\"\\n\")\n",
    "\n",
    "# model evaluation for testing set\n",
    "y_test_predict = knn_reg_all.predict(X_diabetes_test)\n",
    "y_test_predict = y_test_predict.reshape(-1,1)\n",
    "\n",
    "y_test = y_test.reshape(-1,1)\n",
    "rmse = (np.sqrt(mean_squared_error(y_diabetes_test, y_test_predict)))\n",
    "r2 = r2_score(y_diabetes_test, y_test_predict)\n",
    "\n",
    "print(\"Độ chính xác của mô hình trên tập kiểm thử:\")\n",
    "print(\"-------------------------------------------\")\n",
    "print('Sai số RMSE {}'.format(rmse))\n",
    "print('Sai số R2   {}'.format(r2))"
   ]
  },
  {
   "cell_type": "code",
   "execution_count": null,
   "metadata": {},
   "outputs": [],
   "source": []
  },
  {
   "cell_type": "code",
   "execution_count": null,
   "metadata": {},
   "outputs": [],
   "source": []
  },
  {
   "cell_type": "code",
   "execution_count": null,
   "metadata": {},
   "outputs": [],
   "source": []
  },
  {
   "cell_type": "code",
   "execution_count": null,
   "metadata": {},
   "outputs": [],
   "source": []
  },
  {
   "cell_type": "code",
   "execution_count": null,
   "metadata": {},
   "outputs": [],
   "source": []
  }
 ],
 "metadata": {
  "kernelspec": {
   "display_name": "Python 3",
   "language": "python",
   "name": "python3"
  },
  "language_info": {
   "codemirror_mode": {
    "name": "ipython",
    "version": 3
   },
   "file_extension": ".py",
   "mimetype": "text/x-python",
   "name": "python",
   "nbconvert_exporter": "python",
   "pygments_lexer": "ipython3",
   "version": "3.8.8"
  }
 },
 "nbformat": 4,
 "nbformat_minor": 2
}
